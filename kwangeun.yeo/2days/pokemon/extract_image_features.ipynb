{
 "cells": [
  {
   "cell_type": "code",
   "execution_count": null,
   "metadata": {},
   "outputs": [],
   "source": [
    "import os\n",
    "import glob\n",
    "import torch\n",
    "import clip\n",
    "from tqdm import tqdm\n",
    "from PIL import Image"
   ]
  },
  {
   "cell_type": "code",
   "execution_count": null,
   "metadata": {},
   "outputs": [],
   "source": [
    "device = \"cuda\" if torch.cuda.is_available() else \"cpu\"\n",
    "model, preprocess = clip.load(\"ViT-B/32\", device=device)"
   ]
  },
  {
   "cell_type": "code",
   "execution_count": null,
   "metadata": {},
   "outputs": [],
   "source": [
    "photo_list = glob.glob(\"./data/photos/*\")\n",
    "features_dict = dict()\n",
    "for photo_dir in tqdm(photo_list):\n",
    "    name = os.path.basename(photo_dir)\n",
    "    image_file_list = glob.glob(f\"{photo_dir}/*\")\n",
    "    images = [preprocess(Image.open(image_file)).unsqueeze(0).to(device) for image_file in image_file_list]\n",
    "    images = torch.cat(images)\n",
    "    with torch.no_grad():\n",
    "        image_features = model.encode_image(images)\n",
    "    features_dict[name] = image_features.mean(axis=0)"
   ]
  }
 ],
 "metadata": {
  "language_info": {
   "name": "python"
  },
  "orig_nbformat": 4
 },
 "nbformat": 4,
 "nbformat_minor": 2
}

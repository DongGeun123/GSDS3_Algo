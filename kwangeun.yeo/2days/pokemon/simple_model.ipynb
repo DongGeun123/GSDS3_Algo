{
 "cells": [
  {
   "cell_type": "code",
   "execution_count": null,
   "metadata": {},
   "outputs": [],
   "source": [
    "import torch\n",
    "from torch.utils.data import DataLoader\n",
    "import pandas as pd\n",
    "from torch import nn, optim\n",
    "import pickle\n",
    "from tqdm import tqdm\n",
    "import torch.nn.functional as F"
   ]
  },
  {
   "cell_type": "code",
   "execution_count": null,
   "metadata": {},
   "outputs": [],
   "source": [
    "class PokemonDataset:\n",
    "    def __init__(self, df):\n",
    "        self.df = df\n",
    "    \n",
    "    def __len__(self):\n",
    "        return len(self.df)\n",
    "    \n",
    "    def __getitem__(self, idx):\n",
    "        selected = self.df.iloc[idx, :]\n",
    "        image = torch.tensor(selected[\"image\"]).float()\n",
    "        types = torch.tensor(selected[\"types\"]).float()\n",
    "        return (image, types)"
   ]
  },
  {
   "cell_type": "code",
   "execution_count": null,
   "metadata": {},
   "outputs": [],
   "source": [
    "class SimpleModel(nn.Module):\n",
    "    def __init__(self, dim_image, num_types):\n",
    "        super().__init__()\n",
    "        self.fc1 = nn.Linear(dim_image, 64)\n",
    "        self.fc2 = nn.Linear(64, 32)\n",
    "        self.fc_out = nn.Linear(32, num_types)\n",
    "        self.relu = nn.ReLU()\n",
    "\n",
    "    def forward(self, x):\n",
    "        x = self.fc1(x)\n",
    "        x = self.relu(x)\n",
    "        x = self.fc2(x)\n",
    "        x = self.relu(x)\n",
    "        return self.fc_out(x)"
   ]
  },
  {
   "cell_type": "code",
   "execution_count": null,
   "metadata": {},
   "outputs": [],
   "source": [
    "with open(\"./train.pkl\", \"rb\") as pf:\n",
    "    train = pickle.load(pf)\n",
    "with open(\"./test.pkl\", \"rb\") as pf:\n",
    "    test = pickle.load(pf)"
   ]
  },
  {
   "cell_type": "code",
   "execution_count": null,
   "metadata": {},
   "outputs": [],
   "source": [
    "train_dataset = PokemonDataset(train)\n",
    "test_dataset = PokemonDataset(test)\n",
    "train_loader = DataLoader(train_dataset, batch_size=32, shuffle=True)\n",
    "test_loader = DataLoader(test_dataset, batch_size=32, shuffle=False)"
   ]
  },
  {
   "cell_type": "code",
   "execution_count": null,
   "metadata": {},
   "outputs": [],
   "source": [
    "dim_image = len(train_dataset[0][0])\n",
    "num_types = len(train_dataset[0][1])"
   ]
  },
  {
   "cell_type": "code",
   "execution_count": null,
   "metadata": {},
   "outputs": [],
   "source": [
    "model = SimpleModel(dim_image, num_types)"
   ]
  },
  {
   "cell_type": "code",
   "execution_count": null,
   "metadata": {},
   "outputs": [],
   "source": [
    "optimizer = optim.Adam(model.parameters(), lr=1e-3)\n",
    "model.train()\n",
    "num_epochs = 100\n",
    "loss_fn = loss_fn = nn.CrossEntropyLoss()\n",
    "for e in range(num_epochs):\n",
    "    epoch_loss = 0\n",
    "    for image, types in train_loader:\n",
    "        optimizer.zero_grad()\n",
    "        pred = model(image)\n",
    "        loss = loss_fn(pred, types)\n",
    "        loss.backward()\n",
    "        epoch_loss += loss.item()\n",
    "        optimizer.step()\n",
    "    print(f\"Epoch {e}: Loss {epoch_loss}\")"
   ]
  },
  {
   "cell_type": "code",
   "execution_count": null,
   "metadata": {},
   "outputs": [],
   "source": [
    "k = 10\n",
    "model.eval()\n",
    "avg_recall = []\n",
    "with torch.no_grad():\n",
    "    for image, types in test_loader:\n",
    "        pred = model(image)\n",
    "        recall = types.gather(1, pred.argsort(axis=1))[:, :k].sum(axis=1).squeeze() / types.sum(axis=1)\n",
    "        avg_recall.append(recall.mean())\n",
    "recall_at_k = torch.stack(avg_recall).mean().item()"
   ]
  }
 ],
 "metadata": {
  "language_info": {
   "name": "python"
  },
  "orig_nbformat": 4
 },
 "nbformat": 4,
 "nbformat_minor": 2
}

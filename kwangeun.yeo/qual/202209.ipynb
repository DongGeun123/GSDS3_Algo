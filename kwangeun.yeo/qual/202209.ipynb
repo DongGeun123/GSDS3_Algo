{
 "cells": [
  {
   "attachments": {},
   "cell_type": "markdown",
   "metadata": {},
   "source": [
    "# Q1"
   ]
  },
  {
   "cell_type": "code",
   "execution_count": 1,
   "metadata": {},
   "outputs": [],
   "source": [
    "from itertools import permutations\n",
    "\n",
    "def str_perm(s):\n",
    "    return [''.join(c) for c in sorted(set(permutations(s, len(s))))]"
   ]
  },
  {
   "cell_type": "code",
   "execution_count": 2,
   "metadata": {},
   "outputs": [
    {
     "data": {
      "text/plain": [
       "['abc', 'acb', 'bac', 'bca', 'cab', 'cba']"
      ]
     },
     "execution_count": 2,
     "metadata": {},
     "output_type": "execute_result"
    }
   ],
   "source": [
    "s = \"abc\"\n",
    "str_perm(s)"
   ]
  },
  {
   "cell_type": "code",
   "execution_count": 3,
   "metadata": {},
   "outputs": [
    {
     "data": {
      "text/plain": [
       "['abb', 'bab', 'bba']"
      ]
     },
     "execution_count": 3,
     "metadata": {},
     "output_type": "execute_result"
    }
   ],
   "source": [
    "s = \"abb\"\n",
    "str_perm(s)"
   ]
  },
  {
   "attachments": {},
   "cell_type": "markdown",
   "metadata": {},
   "source": [
    "# Q2"
   ]
  },
  {
   "cell_type": "code",
   "execution_count": 4,
   "metadata": {},
   "outputs": [],
   "source": [
    "class GNode:\n",
    "    def __init__(self, id):\n",
    "        self.id = id # id is a string\n",
    "    \n",
    "    def __str__(self):\n",
    "        return self.id"
   ]
  },
  {
   "cell_type": "code",
   "execution_count": 5,
   "metadata": {},
   "outputs": [],
   "source": [
    "def paths(G, a, c):\n",
    "    def dfs(node, path):\n",
    "        if node == c:\n",
    "            ret.append(path)\n",
    "            return\n",
    "        \n",
    "        for nn in G[node]:\n",
    "            if v[nn]:\n",
    "                continue\n",
    "            v[nn] = True\n",
    "            dfs(nn, path + [str(nn)])\n",
    "            v[nn] = False\n",
    "\n",
    "    ret = []\n",
    "    v = {k: False for k in G.keys()}\n",
    "    v[a] = True\n",
    "    dfs(a, [str(a)])\n",
    "    return ret"
   ]
  },
  {
   "cell_type": "code",
   "execution_count": 6,
   "metadata": {},
   "outputs": [
    {
     "data": {
      "text/plain": [
       "[['a', 'b', 'd', 'c'], ['a', 'c']]"
      ]
     },
     "execution_count": 6,
     "metadata": {},
     "output_type": "execute_result"
    }
   ],
   "source": [
    "a, b, c, d = GNode('a'), GNode('b'), GNode('c'), GNode('d')\n",
    "G = dict()\n",
    "G[a], G[b], G[c], G[d] = [b, c], [d], [], [c]\n",
    "paths(G, a, c)"
   ]
  }
 ],
 "metadata": {
  "kernelspec": {
   "display_name": "Python 3",
   "language": "python",
   "name": "python3"
  },
  "language_info": {
   "codemirror_mode": {
    "name": "ipython",
    "version": 3
   },
   "file_extension": ".py",
   "mimetype": "text/x-python",
   "name": "python",
   "nbconvert_exporter": "python",
   "pygments_lexer": "ipython3",
   "version": "3.10.8"
  },
  "orig_nbformat": 4
 },
 "nbformat": 4,
 "nbformat_minor": 2
}

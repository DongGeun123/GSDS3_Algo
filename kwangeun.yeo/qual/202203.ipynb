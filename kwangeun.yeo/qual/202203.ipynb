{
 "cells": [
  {
   "attachments": {},
   "cell_type": "markdown",
   "metadata": {},
   "source": [
    "# Q1"
   ]
  },
  {
   "cell_type": "code",
   "execution_count": 1,
   "metadata": {},
   "outputs": [],
   "source": [
    "def palindrome(s):\n",
    "    return s == s[-1::-1]"
   ]
  },
  {
   "cell_type": "code",
   "execution_count": 2,
   "metadata": {},
   "outputs": [],
   "source": [
    "def substring(s, t):\n",
    "    return t in s"
   ]
  },
  {
   "cell_type": "code",
   "execution_count": 3,
   "metadata": {},
   "outputs": [],
   "source": [
    "def max_palindromes(s):\n",
    "    ret = []\n",
    "    sidx = 0\n",
    "    for sidx in range(len(s)):\n",
    "        pd = s[sidx]\n",
    "        for eidx in range(sidx + 1, len(s) + 1):\n",
    "            if palindrome(s[sidx:eidx]):\n",
    "                pd = s[sidx:eidx]\n",
    "        for prev in ret:\n",
    "            if substring(prev, pd):\n",
    "                pd = None\n",
    "                break\n",
    "        if pd:\n",
    "            ret.append(pd)\n",
    "    return ret"
   ]
  },
  {
   "cell_type": "code",
   "execution_count": 4,
   "metadata": {},
   "outputs": [
    {
     "name": "stdout",
     "output_type": "stream",
     "text": [
      "['k', 'abccba', 'dzd', 'defgfed']\n",
      "['k', 'abccba', ' ', 'd', 'zabccbaz', 'aza']\n"
     ]
    }
   ],
   "source": [
    "s = \"kabccbadzdefgfeda\"\n",
    "print(max_palindromes(s))\n",
    "s = \"kabccba dzabccbaza\"\n",
    "print(max_palindromes(s))"
   ]
  },
  {
   "attachments": {},
   "cell_type": "markdown",
   "metadata": {},
   "source": [
    "# Q2"
   ]
  },
  {
   "cell_type": "code",
   "execution_count": 1,
   "metadata": {},
   "outputs": [],
   "source": [
    "from collections import deque"
   ]
  },
  {
   "cell_type": "code",
   "execution_count": 2,
   "metadata": {},
   "outputs": [],
   "source": [
    "# Node definition.\n",
    "class GNode:\n",
    "    def __init__(self, id, color=\"W\", d=0, p=None):\n",
    "        self.id = id # id is a string\n",
    "        self.color = color # color (status) of node \n",
    "        self.distance = d\n",
    "        self.parent = p\n",
    "        \n",
    "    def __str__(self):\n",
    "        return self.id"
   ]
  },
  {
   "cell_type": "code",
   "execution_count": 3,
   "metadata": {},
   "outputs": [],
   "source": [
    "# def bfs(G, s):\n",
    "#     ret = []\n",
    "#     q = deque([s])\n",
    "#     v = [s]\n",
    "#     while q:\n",
    "#         cn = q.popleft()\n",
    "#         if len(ret) <= cn.distance:\n",
    "#             ret.append([cn.id])\n",
    "#         else:\n",
    "#             ret[cn.distance].append(cn.id)\n",
    "#         for nn in G[cn]:\n",
    "#             if nn in v:\n",
    "#                 continue\n",
    "#             q.append(nn)\n",
    "#             v.append(nn)\n",
    "#             nn.distance = cn.distance + 1\n",
    "#     return ret\n",
    "\n",
    "def bfs(G, s):\n",
    "    ## level of a tree is determined by the distance from the source node\n",
    "    ## level 0 -> source node / level 1 -> children of the source node / level 2 -> ...\n",
    "    ## first, define the queue to be used for BFS\n",
    "    ans = [] # container of the nodes in each level -> [[s], [r, w], [v, t, x], [u, y]]\n",
    "    q = [s]\n",
    "    s.color = \"B\"\n",
    "    while q:\n",
    "        curr = q.pop(0)\n",
    "        if len(ans) <= curr.distance:\n",
    "            ## first node at a new level\n",
    "            ans.append([curr.id])\n",
    "        else:\n",
    "            ## another node at the same level\n",
    "            ans[curr.distance].append(curr.id)\n",
    "        for child in G[curr]:\n",
    "            if child.color == \"B\": continue\n",
    "            child.color = \"B\"\n",
    "            child.distance = curr.distance + 1\n",
    "            q.append(child)\n",
    "    return ans"
   ]
  },
  {
   "cell_type": "code",
   "execution_count": 4,
   "metadata": {},
   "outputs": [],
   "source": [
    "def level_partition(G, s):\n",
    "    return bfs(G, s)"
   ]
  },
  {
   "cell_type": "code",
   "execution_count": 5,
   "metadata": {},
   "outputs": [
    {
     "name": "stdout",
     "output_type": "stream",
     "text": [
      "s\n",
      "w\n",
      "r\n",
      "t\n",
      "x\n",
      "v\n",
      "u\n",
      "y\n",
      "[['s'], ['w', 'r'], ['t', 'x', 'v'], ['u', 'y']]\n"
     ]
    }
   ],
   "source": [
    "r, s, t, u, v = GNode('r'), GNode('s'), GNode('t'), GNode('u'), GNode('v')\n",
    "w, x, y = GNode('w'), GNode('x'), GNode('y')\n",
    "\n",
    "G = dict()\n",
    "G[r], G[s], G[t], G[u], G[v] = [s, v], [w, r], [w, x, u], [t, x, y], [r]\n",
    "G[w], G[x], G[y] = [s, t, x], [w, t, u, y], [x, u]\n",
    "\n",
    "print(level_partition(G, s))"
   ]
  },
  {
   "cell_type": "code",
   "execution_count": null,
   "metadata": {},
   "outputs": [],
   "source": []
  }
 ],
 "metadata": {
  "kernelspec": {
   "display_name": "Python 3",
   "language": "python",
   "name": "python3"
  },
  "language_info": {
   "codemirror_mode": {
    "name": "ipython",
    "version": 3
   },
   "file_extension": ".py",
   "mimetype": "text/x-python",
   "name": "python",
   "nbconvert_exporter": "python",
   "pygments_lexer": "ipython3",
   "version": "3.10.9"
  },
  "orig_nbformat": 4,
  "vscode": {
   "interpreter": {
    "hash": "aee8b7b246df8f9039afb4144a1f6fd8d2ca17a180786b69acc140d282b71a49"
   }
  }
 },
 "nbformat": 4,
 "nbformat_minor": 2
}

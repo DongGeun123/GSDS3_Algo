{
 "cells": [
  {
   "cell_type": "code",
   "execution_count": 149,
   "metadata": {},
   "outputs": [],
   "source": [
    "def listTostring(str_list : list)-> str:\n",
    "    result = \"\"\n",
    "    for s in str_list:\n",
    "        result += s\n",
    "    return result\n",
    "\n",
    "def reverse_str(s:str)->str: # s[::-1] 이렇게 해도 되겠네 생각해보니.\n",
    "    s_list = [0]*len(s)\n",
    "    for i in range(len(s)):\n",
    "        s_list[len(s)-1-i] = s[i]\n",
    "    return listTostring(s_list)\n",
    "\n",
    "def palindrome(s:str)->bool:\n",
    "    s_reverse = reverse_str(s)\n",
    "    if s_reverse == s:\n",
    "        return True\n",
    "    else:\n",
    "        return False\n",
    "    \n",
    "def substring(s:str, t:str) -> bool:\n",
    "    if t in s:\n",
    "        return True\n",
    "    else:\n",
    "        return False"
   ]
  },
  {
   "cell_type": "code",
   "execution_count": 150,
   "metadata": {},
   "outputs": [],
   "source": [
    "def max_palindromes(s):\n",
    "    palist = []\n",
    "    dp = [[0]*len(s) for _ in range(len(s))]\n",
    "    for i in range(len(s)):\n",
    "        dp[i][i] = True\n",
    "        palist.append(s[i:i+1])\n",
    "    for i in range(len(s)-1,-1,-1):\n",
    "        for j in range(i+1,len(s)):  \n",
    "            if s[i] == s[j]:\n",
    "                if j-i ==1 or dp[i+1][j-1] is True: # 한글자거나 가운데가 palindrome이면... 바깥쪽도 palindrome\n",
    "                    dp[i][j] = True\n",
    "                    palist.append(s[i:j+1])\n",
    "    \n",
    "    palist = list(set(palist)) # 중복제거\n",
    "    palist.sort(key=len, reverse = True) # 큰거부터 줄세우기\n",
    "    palist_pop = palist[:]\n",
    "    for i in range(len(palist)):\n",
    "        for j in range(i+1,len(palist)):\n",
    "            if palist[j] in palist[i] and palist[j] in palist_pop:\n",
    "                palist_pop.remove(palist[j])\n",
    "\n",
    "    return palist_pop"
   ]
  },
  {
   "cell_type": "code",
   "execution_count": 151,
   "metadata": {},
   "outputs": [
    {
     "name": "stdout",
     "output_type": "stream",
     "text": [
      "['defgfed', 'abccba', 'dzd', 'k']\n",
      "['zabccbaz', 'aza', 'd', 'k', ' ']\n"
     ]
    }
   ],
   "source": [
    "print(max_palindromes(\"kabccbadzdefgfeda\"))\n",
    "print(max_palindromes(\"kabccba dzabccbaza\"))"
   ]
  },
  {
   "cell_type": "code",
   "execution_count": 143,
   "metadata": {},
   "outputs": [],
   "source": [
    "from collections import deque\n",
    "class GNode:\n",
    "    def __init__(self, id, color=\"W\", d=0, p=None):\n",
    "        self.id = id # id is a string\n",
    "        self.color = color # color (status) of node W: unvisited nodes, B: visited nodes\n",
    "        self.distance = d\n",
    "        self.parent = p\n",
    "    def __str__(self):\n",
    "        return self.id\n",
    "\n",
    "r, s, t, u, v = GNode('r'), GNode('s'), GNode('t'), GNode('u'), GNode('v')\n",
    "w, x, y = GNode('w'), GNode('x'), GNode('y')\n",
    "G = dict()\n",
    "G[r], G[s], G[t], G[u], G[v] = [s, v], [w, r], [w, x, u], [t, x, y], [r]\n",
    "G[w], G[x], G[y] = [s, t, x], [w, t, u, y], [x, u]\n",
    "\n"
   ]
  },
  {
   "cell_type": "code",
   "execution_count": 144,
   "metadata": {},
   "outputs": [],
   "source": [
    "def bfs(G, node) -> None:\n",
    "    # initialize\n",
    "    for node in G:\n",
    "        node.color = \"W\" # unvijsited\n",
    "    q = deque([])\n",
    "    q.append(node)\n",
    "    d = 0\n",
    "    node.color = \"B\" # visited\n",
    "    node.distance = 0\n",
    "    while q:\n",
    "        v = q.popleft()\n",
    "        for w in G[v]:\n",
    "            if w.color == \"W\":\n",
    "                w.color = \"B\"\n",
    "                q.append(w)\n",
    "                w.distance = v.distance+1\n",
    "                print(f\"visit {w} node!\")\n",
    "    # for node in G:\n",
    "    #     print(f\"node : {str(node)}, color : {node.color}, distance : {node.distance}\")"
   ]
  },
  {
   "cell_type": "code",
   "execution_count": 145,
   "metadata": {},
   "outputs": [
    {
     "name": "stdout",
     "output_type": "stream",
     "text": [
      "visit x node!\n",
      "visit u node!\n",
      "visit w node!\n",
      "visit t node!\n",
      "visit s node!\n",
      "visit r node!\n",
      "visit v node!\n"
     ]
    }
   ],
   "source": [
    "bfs(G,s)"
   ]
  },
  {
   "cell_type": "code",
   "execution_count": 158,
   "metadata": {},
   "outputs": [],
   "source": [
    "def level_partition(G, node) -> None:\n",
    "    # initialize\n",
    "    for node in G:\n",
    "        node.color = \"W\"\n",
    "        \n",
    "    q = deque([])\n",
    "    q.append(node)\n",
    "    d = 0\n",
    "    out = [[] for _ in range(len(G))] # [0]*len(G) \n",
    "    node.color = \"B\"\n",
    "    node.distance = 0\n",
    "    out[0] = [node]\n",
    "    # print(out)\n",
    "    while q:\n",
    "        v = q.popleft()\n",
    "        for w in G[v]:\n",
    "            if w.color == \"W\":\n",
    "                w.color = \"B\"\n",
    "                q.append(w)\n",
    "                w.distance = v.distance+1\n",
    "                out[w.distance].append(w)\n",
    "    outlist = []\n",
    "    for i in range(len(G)):\n",
    "        if out[i]:\n",
    "            outlist.append(out[i])\n",
    "\n",
    "    return outlist"
   ]
  },
  {
   "cell_type": "code",
   "execution_count": 159,
   "metadata": {},
   "outputs": [
    {
     "data": {
      "text/plain": [
       "[[<__main__.GNode at 0x215e0cb65c0>],\n",
       " [<__main__.GNode at 0x215e0c8f3d0>, <__main__.GNode at 0x215e0c8f400>],\n",
       " [<__main__.GNode at 0x215e0ba7670>, <__main__.GNode at 0x215e1cb74c0>],\n",
       " [<__main__.GNode at 0x215e1cb7490>],\n",
       " [<__main__.GNode at 0x215e1cb7bb0>],\n",
       " [<__main__.GNode at 0x215e0c8f640>]]"
      ]
     },
     "execution_count": 159,
     "metadata": {},
     "output_type": "execute_result"
    }
   ],
   "source": [
    "level_partition(G,s)"
   ]
  },
  {
   "cell_type": "code",
   "execution_count": 156,
   "metadata": {},
   "outputs": [],
   "source": [
    "def level_partition(G, node) -> None:\n",
    "    # initialize\n",
    "    for node in G:\n",
    "        node.color = \"W\"\n",
    "        \n",
    "    q = deque([])\n",
    "    q.append(node)\n",
    "    d = 0\n",
    "    out = [[] for _ in range(len(G))] # [0]*len(G) \n",
    "    node.color = \"B\"\n",
    "    node.distance = 0\n",
    "    out[0] = [str(node)]\n",
    "    # print(out)\n",
    "    while q:\n",
    "        v = q.popleft()\n",
    "        for w in G[v]:\n",
    "            if w.color == \"W\":\n",
    "                w.color = \"B\"\n",
    "                q.append(w)\n",
    "                w.distance = v.distance+1\n",
    "                out[w.distance].append(str(w))\n",
    "    outlist = []\n",
    "    for i in range(len(G)):\n",
    "        if out[i]:\n",
    "            outlist.append(out[i])\n",
    "\n",
    "    return outlist"
   ]
  },
  {
   "cell_type": "code",
   "execution_count": 157,
   "metadata": {},
   "outputs": [
    {
     "data": {
      "text/plain": [
       "[['y'], ['x', 'u'], ['w', 't'], ['s'], ['r'], ['v']]"
      ]
     },
     "execution_count": 157,
     "metadata": {},
     "output_type": "execute_result"
    }
   ],
   "source": [
    "level_partition(G,s)"
   ]
  },
  {
   "cell_type": "code",
   "execution_count": 114,
   "metadata": {},
   "outputs": [
    {
     "data": {
      "text/plain": [
       "False"
      ]
     },
     "execution_count": 114,
     "metadata": {},
     "output_type": "execute_result"
    }
   ],
   "source": [
    "bool([])"
   ]
  },
  {
   "cell_type": "code",
   "execution_count": 116,
   "metadata": {},
   "outputs": [
    {
     "data": {
      "text/plain": [
       "True"
      ]
     },
     "execution_count": 116,
     "metadata": {},
     "output_type": "execute_result"
    }
   ],
   "source": [
    "bool([2])"
   ]
  },
  {
   "cell_type": "code",
   "execution_count": 113,
   "metadata": {},
   "outputs": [
    {
     "name": "stdout",
     "output_type": "stream",
     "text": [
      "[13, 13, 13, 13, 13, 13, 13, 13, 13, 13, 13, 13, 13]\n",
      "2292908098160\n",
      "2292908098160\n",
      "2292908097776\n",
      "2292908098160\n",
      "2292908098160\n",
      "[1, 13, 13, 13, 13, 13, 13, 13, 13, 13, 13, 13, 13]\n"
     ]
    }
   ],
   "source": [
    "b = [13] * 13\n",
    "print(b)\n",
    "print(id(b[0]))\n",
    "print(id(b[1]))\n",
    "b[0] = 1\n",
    "print(id(b[0]))\n",
    "print(id(b[1]))\n",
    "print(id(b[2]))\n",
    "print(b)"
   ]
  },
  {
   "cell_type": "code",
   "execution_count": 109,
   "metadata": {},
   "outputs": [
    {
     "name": "stdout",
     "output_type": "stream",
     "text": [
      "[[13], [13], [13], [13], [13], [13], [13], [13], [13], [13], [13], [13], [13]]\n",
      "[[23], [23], [23], [23], [23], [23], [23], [23], [23], [23], [23], [23], [23]]\n"
     ]
    }
   ],
   "source": [
    "a = [[13]]*13\n",
    "print(a)\n",
    "a[0][0] = 23\n",
    "print(a)"
   ]
  },
  {
   "cell_type": "code",
   "execution_count": 105,
   "metadata": {},
   "outputs": [
    {
     "name": "stdout",
     "output_type": "stream",
     "text": [
      "8\n",
      "[[], [], [], [], [], [], [], []]\n",
      "w.distance : 1, out: [['s'], [], [], [], [], [], [], []], str(w):w\n",
      "out[1] : ['w']\n",
      "** out: [['s'], ['w'], [], [], [], [], [], []]\n",
      "w.distance : 1, out: [['s'], ['w'], [], [], [], [], [], []], str(w):r\n",
      "out[1] : ['w', 'r']\n",
      "** out: [['s'], ['w', 'r'], [], [], [], [], [], []]\n",
      "w.distance : 2, out: [['s'], ['w', 'r'], [], [], [], [], [], []], str(w):t\n",
      "out[1] : ['w', 'r']\n",
      "** out: [['s'], ['w', 'r'], ['t'], [], [], [], [], []]\n",
      "w.distance : 2, out: [['s'], ['w', 'r'], ['t'], [], [], [], [], []], str(w):x\n",
      "out[1] : ['w', 'r']\n",
      "** out: [['s'], ['w', 'r'], ['t', 'x'], [], [], [], [], []]\n",
      "w.distance : 2, out: [['s'], ['w', 'r'], ['t', 'x'], [], [], [], [], []], str(w):v\n",
      "out[1] : ['w', 'r']\n",
      "** out: [['s'], ['w', 'r'], ['t', 'x', 'v'], [], [], [], [], []]\n",
      "w.distance : 3, out: [['s'], ['w', 'r'], ['t', 'x', 'v'], [], [], [], [], []], str(w):u\n",
      "out[1] : ['w', 'r']\n",
      "** out: [['s'], ['w', 'r'], ['t', 'x', 'v'], ['u'], [], [], [], []]\n",
      "w.distance : 3, out: [['s'], ['w', 'r'], ['t', 'x', 'v'], ['u'], [], [], [], []], str(w):y\n",
      "out[1] : ['w', 'r']\n",
      "** out: [['s'], ['w', 'r'], ['t', 'x', 'v'], ['u', 'y'], [], [], [], []]\n",
      "node : r, color : B, distance : 1\n",
      "node : s, color : B, distance : 0\n",
      "node : t, color : B, distance : 2\n",
      "node : u, color : B, distance : 3\n",
      "node : v, color : B, distance : 2\n",
      "node : w, color : B, distance : 1\n",
      "node : x, color : B, distance : 2\n",
      "node : y, color : B, distance : 3\n"
     ]
    }
   ],
   "source": [
    "bfs(G,s)"
   ]
  },
  {
   "cell_type": "code",
   "execution_count": 103,
   "metadata": {},
   "outputs": [
    {
     "data": {
      "text/plain": [
       "[['s'], ['w'], [], [], [], [], [], []]"
      ]
     },
     "execution_count": 103,
     "metadata": {},
     "output_type": "execute_result"
    }
   ],
   "source": [
    "out= [['s'], [], [], [], [], [], [], []]\n",
    "out[1].append(\"w\")\n",
    "out"
   ]
  },
  {
   "cell_type": "code",
   "execution_count": 82,
   "metadata": {},
   "outputs": [
    {
     "data": {
      "text/plain": [
       "[[1, 2], [2], [3], [4]]"
      ]
     },
     "execution_count": 82,
     "metadata": {},
     "output_type": "execute_result"
    }
   ],
   "source": [
    "a= [[1],[2],[3],[4]]\n",
    "a[0].append(2)\n",
    "a"
   ]
  },
  {
   "cell_type": "code",
   "execution_count": 83,
   "metadata": {},
   "outputs": [
    {
     "data": {
      "text/plain": [
       "[['s'], [2], [], [], [], [], [], []]"
      ]
     },
     "execution_count": 83,
     "metadata": {},
     "output_type": "execute_result"
    }
   ],
   "source": [
    "a = [['s'], [], [], [], [], [], [], []]\n",
    "a[1].append(2)\n",
    "a"
   ]
  },
  {
   "cell_type": "code",
   "execution_count": 42,
   "metadata": {},
   "outputs": [
    {
     "data": {
      "text/plain": [
       "[[0, 0, 0]]"
      ]
     },
     "execution_count": 42,
     "metadata": {},
     "output_type": "execute_result"
    }
   ],
   "source": [
    "out = [[0]*3]\n",
    "out"
   ]
  },
  {
   "cell_type": "code",
   "execution_count": 39,
   "metadata": {},
   "outputs": [
    {
     "ename": "TypeError",
     "evalue": "'GNode' object is not subscriptable",
     "output_type": "error",
     "traceback": [
      "\u001b[1;31m---------------------------------------------------------------------------\u001b[0m",
      "\u001b[1;31mTypeError\u001b[0m                                 Traceback (most recent call last)",
      "\u001b[1;32mc:\\Users\\vetys\\Sangsoo\\qual_previous_coding\\22_3.ipynb Cell 11\u001b[0m in \u001b[0;36m<cell line: 1>\u001b[1;34m()\u001b[0m\n\u001b[1;32m----> <a href='vscode-notebook-cell:/c%3A/Users/vetys/Sangsoo/qual_previous_coding/22_3.ipynb#X14sZmlsZQ%3D%3D?line=0'>1</a>\u001b[0m bfs(G,s)\n",
      "\u001b[1;32mc:\\Users\\vetys\\Sangsoo\\qual_previous_coding\\22_3.ipynb Cell 11\u001b[0m in \u001b[0;36mbfs\u001b[1;34m(G, node)\u001b[0m\n\u001b[0;32m     <a href='vscode-notebook-cell:/c%3A/Users/vetys/Sangsoo/qual_previous_coding/22_3.ipynb#X14sZmlsZQ%3D%3D?line=13'>14</a>\u001b[0m             q\u001b[39m.\u001b[39mappend(w)\n\u001b[0;32m     <a href='vscode-notebook-cell:/c%3A/Users/vetys/Sangsoo/qual_previous_coding/22_3.ipynb#X14sZmlsZQ%3D%3D?line=14'>15</a>\u001b[0m             w\u001b[39m.\u001b[39mdistance \u001b[39m=\u001b[39m v\u001b[39m.\u001b[39mdistance\u001b[39m+\u001b[39m\u001b[39m1\u001b[39m\n\u001b[1;32m---> <a href='vscode-notebook-cell:/c%3A/Users/vetys/Sangsoo/qual_previous_coding/22_3.ipynb#X14sZmlsZQ%3D%3D?line=15'>16</a>\u001b[0m             out[\u001b[39m0\u001b[39;49m][w\u001b[39m.\u001b[39;49mdistance]\u001b[39m.\u001b[39mappend(w)\n\u001b[0;32m     <a href='vscode-notebook-cell:/c%3A/Users/vetys/Sangsoo/qual_previous_coding/22_3.ipynb#X14sZmlsZQ%3D%3D?line=16'>17</a>\u001b[0m \u001b[39mfor\u001b[39;00m node \u001b[39min\u001b[39;00m G:\n\u001b[0;32m     <a href='vscode-notebook-cell:/c%3A/Users/vetys/Sangsoo/qual_previous_coding/22_3.ipynb#X14sZmlsZQ%3D%3D?line=17'>18</a>\u001b[0m     \u001b[39mprint\u001b[39m(\u001b[39mf\u001b[39m\u001b[39m\"\u001b[39m\u001b[39mnode : \u001b[39m\u001b[39m{\u001b[39;00m\u001b[39mstr\u001b[39m(node)\u001b[39m}\u001b[39;00m\u001b[39m, color : \u001b[39m\u001b[39m{\u001b[39;00mnode\u001b[39m.\u001b[39mcolor\u001b[39m}\u001b[39;00m\u001b[39m, distance : \u001b[39m\u001b[39m{\u001b[39;00mnode\u001b[39m.\u001b[39mdistance\u001b[39m}\u001b[39;00m\u001b[39m\"\u001b[39m)\n",
      "\u001b[1;31mTypeError\u001b[0m: 'GNode' object is not subscriptable"
     ]
    }
   ],
   "source": [
    "bfs(G,s)"
   ]
  },
  {
   "cell_type": "code",
   "execution_count": 21,
   "metadata": {},
   "outputs": [],
   "source": [
    "r, s, t, u, v = GNode('r'), GNode('s'), GNode('t'), GNode('u'), GNode('v')\n",
    "w, x, y = GNode('w'), GNode('x'), GNode('y')\n",
    "G = dict()\n",
    "G[r], G[w], G[t], G[u], G[v] = [s, v], [w, r], [w, x, u], [t, x, y], [r]\n",
    "G[w], G[x], G[y] = [s, t, x], [w, t, u, y], [x, u]\n"
   ]
  },
  {
   "cell_type": "code",
   "execution_count": null,
   "metadata": {},
   "outputs": [],
   "source": [
    "def bfs(G, node) -> None:\n",
    "    q = deque([])\n",
    "    q.append(node)\n",
    "    d = 0\n",
    "    node.color = \"B\"\n",
    "    node.distance = 0\n",
    "    while q:\n",
    "        v = q.popleft()\n",
    "        # v.distance = d\n",
    "        # d += 1\n",
    "        print(f\"** v : {str(v)}, color : {v.color}, distance : {v.distance} d:{d}\")\n",
    "        for w in G[v]:\n",
    "            if w.color == \"W\":\n",
    "                w.color = \"B\"\n",
    "                q.append(w)\n",
    "                w.distance = v.distance+1\n",
    "                print(f\" w : {str(w)}, color : {w.color}, distance : {w.distance}\")\n",
    "    for node in G:\n",
    "        print(f\"node : {str(node)}, color : {node.color}, distance : {node.distance}\")"
   ]
  },
  {
   "cell_type": "code",
   "execution_count": 54,
   "metadata": {},
   "outputs": [
    {
     "data": {
      "text/plain": [
       "'s'"
      ]
     },
     "execution_count": 54,
     "metadata": {},
     "output_type": "execute_result"
    }
   ],
   "source": [
    "str(G[r][0])"
   ]
  },
  {
   "cell_type": "code",
   "execution_count": 52,
   "metadata": {},
   "outputs": [
    {
     "name": "stdout",
     "output_type": "stream",
     "text": [
      "[<__main__.GNode object at 0x00000200D24111E0>, <__main__.GNode object at 0x00000200D24120B0>]\n"
     ]
    }
   ],
   "source": [
    "print(str(G[r]))"
   ]
  },
  {
   "cell_type": "code",
   "execution_count": null,
   "metadata": {},
   "outputs": [],
   "source": [
    "def bfs(G, s):\n",
    "    while q:\n",
    "        \n",
    "    for node in G[s]:\n"
   ]
  },
  {
   "cell_type": "code",
   "execution_count": 64,
   "metadata": {},
   "outputs": [
    {
     "data": {
      "text/plain": [
       "12"
      ]
     },
     "execution_count": 64,
     "metadata": {},
     "output_type": "execute_result"
    }
   ],
   "source": [
    "len(s)"
   ]
  },
  {
   "cell_type": "code",
   "execution_count": 33,
   "metadata": {},
   "outputs": [
    {
     "data": {
      "text/plain": [
       "'abaabaabaaba'"
      ]
     },
     "execution_count": 33,
     "metadata": {},
     "output_type": "execute_result"
    }
   ],
   "source": [
    "a = [\"aba\", \"abaaba\", \"abaabaabaaba\"]\n",
    "max(a)"
   ]
  },
  {
   "cell_type": "code",
   "execution_count": 32,
   "metadata": {},
   "outputs": [
    {
     "data": {
      "text/plain": [
       "5"
      ]
     },
     "execution_count": 32,
     "metadata": {},
     "output_type": "execute_result"
    }
   ],
   "source": [
    "a = [1, 3, 5, 1]\n",
    "max(a)"
   ]
  },
  {
   "cell_type": "code",
   "execution_count": 30,
   "metadata": {},
   "outputs": [
    {
     "data": {
      "text/plain": [
       "'aba'"
      ]
     },
     "execution_count": 30,
     "metadata": {},
     "output_type": "execute_result"
    }
   ],
   "source": [
    "a = \"abac\"\n",
    "a[:3]"
   ]
  },
  {
   "cell_type": "code",
   "execution_count": 29,
   "metadata": {},
   "outputs": [
    {
     "data": {
      "text/plain": [
       "''"
      ]
     },
     "execution_count": 29,
     "metadata": {},
     "output_type": "execute_result"
    }
   ],
   "source": [
    "a[:0]"
   ]
  },
  {
   "cell_type": "code",
   "execution_count": 18,
   "metadata": {},
   "outputs": [
    {
     "data": {
      "text/plain": [
       "True"
      ]
     },
     "execution_count": 18,
     "metadata": {},
     "output_type": "execute_result"
    }
   ],
   "source": [
    "palindrome(\"aba\")"
   ]
  },
  {
   "cell_type": "code",
   "execution_count": 19,
   "metadata": {},
   "outputs": [
    {
     "data": {
      "text/plain": [
       "True"
      ]
     },
     "execution_count": 19,
     "metadata": {},
     "output_type": "execute_result"
    }
   ],
   "source": [
    "palindrome(\"abba\")"
   ]
  },
  {
   "cell_type": "code",
   "execution_count": 20,
   "metadata": {},
   "outputs": [
    {
     "data": {
      "text/plain": [
       "False"
      ]
     },
     "execution_count": 20,
     "metadata": {},
     "output_type": "execute_result"
    }
   ],
   "source": [
    "palindrome(\"abbca\")"
   ]
  },
  {
   "cell_type": "code",
   "execution_count": 2,
   "metadata": {},
   "outputs": [
    {
     "name": "stdout",
     "output_type": "stream",
     "text": [
      "a\n",
      "b\n",
      "c\n"
     ]
    }
   ],
   "source": [
    "s = \"abc\"\n",
    "for i in range(len(s)):\n",
    "    print(s[i])"
   ]
  },
  {
   "cell_type": "code",
   "execution_count": 15,
   "metadata": {},
   "outputs": [
    {
     "data": {
      "text/plain": [
       "'cba'"
      ]
     },
     "execution_count": 15,
     "metadata": {},
     "output_type": "execute_result"
    }
   ],
   "source": [
    "s = \"abc\"\n",
    "s_reverse =\"\"\n",
    "s_list=[0]*len(s)\n",
    "for i in range(len(s)):\n",
    "    s_list[len(s)-1-i] = s[i]\n",
    "\n",
    "s_reverse = listTostring(s_list)\n",
    "s_reverse"
   ]
  },
  {
   "cell_type": "code",
   "execution_count": 11,
   "metadata": {},
   "outputs": [],
   "source": [
    "def listTostring(str_list):\n",
    "    result = \"\"\n",
    "    for s in str_list:\n",
    "        result += s\n",
    "    return result"
   ]
  },
  {
   "cell_type": "code",
   "execution_count": 13,
   "metadata": {},
   "outputs": [
    {
     "data": {
      "text/plain": [
       "'abc'"
      ]
     },
     "execution_count": 13,
     "metadata": {},
     "output_type": "execute_result"
    }
   ],
   "source": [
    "listTostring([\"a\", \"b\", \"c\"])"
   ]
  },
  {
   "cell_type": "code",
   "execution_count": 2,
   "metadata": {},
   "outputs": [],
   "source": [
    "def skip_mul(n):\n",
    "    if n == 2 or n == 1:\n",
    "        return n\n",
    "    else:\n",
    "        return n*skip_mul(n-2)"
   ]
  },
  {
   "cell_type": "code",
   "execution_count": 3,
   "metadata": {},
   "outputs": [
    {
     "data": {
      "text/plain": [
       "15"
      ]
     },
     "execution_count": 3,
     "metadata": {},
     "output_type": "execute_result"
    }
   ],
   "source": [
    "skip_mul(5)"
   ]
  },
  {
   "cell_type": "code",
   "execution_count": 4,
   "metadata": {},
   "outputs": [],
   "source": [
    "def factorial(n):\n",
    "    if n == 0:\n",
    "        return 1\n",
    "    else:\n",
    "        return n*factorial(n-1)"
   ]
  },
  {
   "cell_type": "code",
   "execution_count": 6,
   "metadata": {},
   "outputs": [
    {
     "data": {
      "text/plain": [
       "24"
      ]
     },
     "execution_count": 6,
     "metadata": {},
     "output_type": "execute_result"
    }
   ],
   "source": [
    "factorial(4)"
   ]
  },
  {
   "cell_type": "code",
   "execution_count": 7,
   "metadata": {},
   "outputs": [],
   "source": [
    "a = (1,3)"
   ]
  },
  {
   "cell_type": "code",
   "execution_count": 9,
   "metadata": {},
   "outputs": [],
   "source": [
    "a = [1, 3]"
   ]
  },
  {
   "cell_type": "code",
   "execution_count": 10,
   "metadata": {},
   "outputs": [
    {
     "data": {
      "text/plain": [
       "True"
      ]
     },
     "execution_count": 10,
     "metadata": {},
     "output_type": "execute_result"
    }
   ],
   "source": [
    "1 in a"
   ]
  },
  {
   "cell_type": "code",
   "execution_count": null,
   "metadata": {},
   "outputs": [],
   "source": [
    "class undi_graph():\n",
    "    def __init__(self, V: list, E: list) -> None:\n",
    "        self.V = V[:]\n",
    "        self.neighbor = {}\n",
    "        for v in V:\n",
    "            self.neighbor[v] = []\n",
    "        for (v, w) in E:\n",
    "            self.neighbor[v].append(w)\n",
    "            self.neighbor[w].append(v)\n",
    "\n",
    "    def __DFTHelp(self, visited: list, v: int)-> None:\n",
    "        if not visited[v]:\n",
    "            visited[v] = True\n",
    "            print(v)\n",
    "            for w in self.neighbor[v]:\n",
    "                self.__DFTHelp(visited, w)\n",
    "                "
   ]
  }
 ],
 "metadata": {
  "kernelspec": {
   "display_name": "Python 3",
   "language": "python",
   "name": "python3"
  },
  "language_info": {
   "codemirror_mode": {
    "name": "ipython",
    "version": 3
   },
   "file_extension": ".py",
   "mimetype": "text/x-python",
   "name": "python",
   "nbconvert_exporter": "python",
   "pygments_lexer": "ipython3",
   "version": "3.10.4"
  },
  "orig_nbformat": 4
 },
 "nbformat": 4,
 "nbformat_minor": 2
}

{
 "cells": [
  {
   "cell_type": "code",
   "execution_count": 3,
   "metadata": {},
   "outputs": [],
   "source": [
    "from typing import List\n",
    "def toString(List):\n",
    "    return ''.join(List)\n",
    "def str_perm(s: str) -> List:\n",
    "    result = []\n",
    "    def str_perm_help(a, l, r):\n",
    "        # print(f\"a: {a}, l: {l}, r: {r}\")\n",
    "        if l == r:\n",
    "            result.append(toString(a))\n",
    "        else:\n",
    "            for i in range(l, r + 1):\n",
    "                # print(f\"i: {i}, l: {l}, r: {r}\")\n",
    "                a[l], a[i] = a[i], a[l]\n",
    "                str_perm_help(a, l + 1, r)\n",
    "                # backtrack\n",
    "                a[l], a[i] = a[i], a[l]\n",
    "    list_s = list(s)\n",
    "    str_perm_help(list_s, 0, len(s)-1)\n",
    "    return result\n",
    "    \n"
   ]
  },
  {
   "cell_type": "code",
   "execution_count": 4,
   "metadata": {},
   "outputs": [
    {
     "data": {
      "text/plain": [
       "['abc', 'acb', 'bac', 'bca', 'cba', 'cab']"
      ]
     },
     "execution_count": 4,
     "metadata": {},
     "output_type": "execute_result"
    }
   ],
   "source": [
    "str_perm(\"abc\")"
   ]
  },
  {
   "cell_type": "code",
   "execution_count": 15,
   "metadata": {},
   "outputs": [],
   "source": [
    "class GNode:\n",
    "    def __init__(self, id):\n",
    "        self.id = id\n",
    "    def __str__(self):\n",
    "        return self.id\n",
    "\n",
    "def paths(G, s, t) -> List:\n",
    "    result = []\n",
    "    def backtrack(curr, path):\n",
    "        if str(curr) == str(t):\n",
    "            result.append(list(path))\n",
    "            return\n",
    "        # print(curr)\n",
    "        for next in G[curr]:\n",
    "            path.append(str(next))\n",
    "            backtrack(next, path)\n",
    "            path.pop()\n",
    "    path = [str(s)]\n",
    "    backtrack(s, path)\n",
    "\n",
    "    return result"
   ]
  },
  {
   "cell_type": "code",
   "execution_count": 12,
   "metadata": {},
   "outputs": [
    {
     "data": {
      "text/plain": [
       "[['a', 'b', 'd', 'c'], ['a', 'c']]"
      ]
     },
     "execution_count": 12,
     "metadata": {},
     "output_type": "execute_result"
    }
   ],
   "source": [
    "a, b, c, d = GNode('a'), GNode('b'), GNode('c'), GNode('d')\n",
    "G = dict()\n",
    "G[a], G[b], G[c], G[d] = [b, c], [d], [], [c]\n",
    "paths(G, a, c)"
   ]
  },
  {
   "cell_type": "code",
   "execution_count": 17,
   "metadata": {},
   "outputs": [],
   "source": [
    "class GNode:\n",
    "    def __init__(self, id):\n",
    "        self.id = id\n",
    "    def __str__(self):\n",
    "        return self.id\n",
    "\n",
    "def paths(G, s, t) -> List:\n",
    "    result = []\n",
    "    def backtrack(curr, path):\n",
    "        if str(curr) == str(t):\n",
    "            result.append(list(path))\n",
    "            return\n",
    "        for next in G[curr]:\n",
    "            path.append(str(next))\n",
    "            backtrack(next, path)\n",
    "            path.pop()\n",
    "    path = [str(s)]\n",
    "    backtrack(s, path)\n",
    "\n",
    "    return result"
   ]
  },
  {
   "cell_type": "code",
   "execution_count": 19,
   "metadata": {},
   "outputs": [
    {
     "data": {
      "text/plain": [
       "[['a', 'b', 'd', 'c'], ['a', 'c'], ['a', 'e', 'c'], ['a', 'f', 'b', 'd', 'c']]"
      ]
     },
     "execution_count": 19,
     "metadata": {},
     "output_type": "execute_result"
    }
   ],
   "source": [
    "a, b, c, d, e, f = GNode('a'), GNode('b'), GNode('c'), GNode('d'), GNode('e'), GNode('f')\n",
    "G = dict()\n",
    "G[a], G[b], G[c], G[d] , G[e] , G[f] = [b, c, e, f], [d], [], [c], [c],[b]\n",
    "paths(G, a, c)"
   ]
  },
  {
   "cell_type": "code",
   "execution_count": 81,
   "metadata": {},
   "outputs": [],
   "source": [
    "# [Backtracking] 797 All Paths From Source to Target\n",
    "from typing import List\n",
    "class Solution:\n",
    "    def allPathsSourceTarget(self, graph: List[List[int]]) -> List[List[int]]:\n",
    "        target = len(graph) - 1\n",
    "        results = []\n",
    "\n",
    "        def backtrack(curr_node, path):\n",
    "            if curr_node == target:\n",
    "                results.append(list(path))\n",
    "                return\n",
    "            for next_node in graph[curr_node]:\n",
    "                path.append(next_node)\n",
    "                backtrack(next_node, path)\n",
    "                path.pop()\n",
    "        \n",
    "        path = [0]\n",
    "        backtrack(0, path)\n",
    "\n",
    "        return results\n"
   ]
  }
 ],
 "metadata": {
  "kernelspec": {
   "display_name": "Python 3",
   "language": "python",
   "name": "python3"
  },
  "language_info": {
   "codemirror_mode": {
    "name": "ipython",
    "version": 3
   },
   "file_extension": ".py",
   "mimetype": "text/x-python",
   "name": "python",
   "nbconvert_exporter": "python",
   "pygments_lexer": "ipython3",
   "version": "3.10.4"
  },
  "orig_nbformat": 4
 },
 "nbformat": 4,
 "nbformat_minor": 2
}
